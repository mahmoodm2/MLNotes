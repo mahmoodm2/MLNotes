{
 "cells": [
  {
   "cell_type": "code",
   "execution_count": 26,
   "metadata": {
    "collapsed": true
   },
   "outputs": [],
   "source": [
    "import tensorflow as tf\n",
    "from tensorflow.contrib.layers import fully_connected\n",
    "\n",
    "from sklearn import datasets\n",
    "from sklearn.datasets.mldata import fetch_mldata\n",
    "from sklearn.model_selection import train_test_split\n",
    "from sklearn.metrics import accuracy_score\n",
    "\n",
    "import tempfile\n",
    "\n",
    "\n",
    "import time\n",
    "import numpy as np\n",
    "import pandas as pd\n",
    "import re"
   ]
  },
  {
   "cell_type": "code",
   "execution_count": 8,
   "metadata": {},
   "outputs": [
    {
     "data": {
      "text/plain": [
       "'\\nage: continuous.\\nworkclass: Private, Self-emp-not-inc, Self-emp-inc, Federal-gov, Local-gov, State-gov, Without-pay, Never-worked.\\nfnlwgt: continuous.\\neducation: Bachelors, Some-college, 11th, HS-grad, Prof-school, Assoc-acdm, Assoc-voc, 9th, 7th-8th, 12th, Masters, 1st-4th, 10th, Doctorate, 5th-6th, Preschool.\\neducation-num: continuous.\\nmarital-status: Married-civ-spouse, Divorced, Never-married, Separated, Widowed, Married-spouse-absent, Married-AF-spouse.\\noccupation: Tech-support, Craft-repair, Other-service, Sales, Exec-managerial, Prof-specialty, Handlers-cleaners, Machine-op-inspct, Adm-clerical, Farming-fishing, Transport-moving, Priv-house-serv, Protective-serv, Armed-Forces.\\nrelationship: Wife, Own-child, Husband, Not-in-family, Other-relative, Unmarried.\\nrace: White, Asian-Pac-Islander, Amer-Indian-Eskimo, Other, Black.\\nsex: Female, Male.\\ncapital-gain: continuous.\\ncapital-loss: continuous.\\nhours-per-week: continuous.\\nnative-country: United-States, Cambodia, England, Puerto-Rico, Canada, Germany, Outlying-US(Guam-USVI-etc), India, Japan, Greece, South, China, Cuba, Iran, Honduras, Philippines, Italy, Poland, Jamaica, Vietnam, Mexico, Portugal, Ireland, France, Dominican-Republic, Laos, Ecuador, Taiwan, Haiti, Columbia, Hungary, Guatemala, Nicaragua, Scotland, Thailand, Yugoslavia, El-Salvador, Trinadad&Tobago, Peru, Hong, Holand-Netherlands.\\n\\n'"
      ]
     },
     "execution_count": 8,
     "metadata": {},
     "output_type": "execute_result"
    }
   ],
   "source": [
    "url =\"https://archive.ics.uci.edu/ml/machine-learning-databases/adult/adult.data\"\n",
    "\n",
    "'''\n",
    "age: continuous.\n",
    "workclass: Private, Self-emp-not-inc, Self-emp-inc, Federal-gov, Local-gov, State-gov, Without-pay, Never-worked.\n",
    "fnlwgt: continuous.\n",
    "education: Bachelors, Some-college, 11th, HS-grad, Prof-school, Assoc-acdm, Assoc-voc, 9th, 7th-8th, 12th, Masters, 1st-4th, 10th, Doctorate, 5th-6th, Preschool.\n",
    "education-num: continuous.\n",
    "marital-status: Married-civ-spouse, Divorced, Never-married, Separated, Widowed, Married-spouse-absent, Married-AF-spouse.\n",
    "occupation: Tech-support, Craft-repair, Other-service, Sales, Exec-managerial, Prof-specialty, Handlers-cleaners, Machine-op-inspct, Adm-clerical, Farming-fishing, Transport-moving, Priv-house-serv, Protective-serv, Armed-Forces.\n",
    "relationship: Wife, Own-child, Husband, Not-in-family, Other-relative, Unmarried.\n",
    "race: White, Asian-Pac-Islander, Amer-Indian-Eskimo, Other, Black.\n",
    "sex: Female, Male.\n",
    "capital-gain: continuous.\n",
    "capital-loss: continuous.\n",
    "hours-per-week: continuous.\n",
    "native-country: United-States, Cambodia, England, Puerto-Rico, Canada, Germany, Outlying-US(Guam-USVI-etc), India, Japan, Greece, South, China, Cuba, Iran, Honduras, Philippines, Italy, Poland, Jamaica, Vietnam, Mexico, Portugal, Ireland, France, Dominican-Republic, Laos, Ecuador, Taiwan, Haiti, Columbia, Hungary, Guatemala, Nicaragua, Scotland, Thailand, Yugoslavia, El-Salvador, Trinadad&Tobago, Peru, Hong, Holand-Netherlands.\n",
    "\n",
    "'''\n"
   ]
  },
  {
   "cell_type": "code",
   "execution_count": 45,
   "metadata": {},
   "outputs": [],
   "source": [
    "def clean_data( data):\n",
    "    \n",
    "        #data.fillna(0. , inplace= True)\n",
    "        data = data.astype(str)\n",
    "        \n",
    "        for col in data.columns:\n",
    "            data[col]=data[col].map(str.strip) # removing all space from the string values\n",
    "\n",
    "       \n",
    "    # age: continuous.\n",
    "        workclass_map={ 'Private':1, 'Self-emp-not-inc':2, 'Self-emp-inc':3, 'Federal-gov':4, 'Local-gov':5\n",
    "                   , 'State-gov':6, 'Without-pay':7, 'Never-worked':8 }\n",
    "    # fnlwgt: continuous.\n",
    "        education_map ={'Bachelors':1, 'Some-college':2, '11th':3, 'HS-grad':4, 'Prof-school':5, 'Assoc-acdm':6\n",
    "                    , 'Assoc-voc':7, '9th':8, '7th-8th':9, '12th':10, 'Masters':11, '1st-4th':12\n",
    "                    , '10th':13, 'Doctorate':14, '5th-6th':15, 'Preschool':16 }\n",
    "    # education-num: continuous.\n",
    "        marital_status_map={ 'Married-civ-spouse':1, 'Divorced':2, 'Never-married':3, 'Separated':4\n",
    "                        , 'Widowed':4, 'Married-spouse-absent':6, 'Married-AF-spouse':7}\n",
    "        occupation_map={ 'Tech-support':1, 'Craft-repair':2, 'Other-service':3, 'Sales':4, 'Exec-managerial':5\n",
    "                    , 'Prof-specialty':6, 'Handlers-cleaners':7, 'Machine-op-inspct':8, 'Adm-clerical':9\n",
    "                    , 'Farming-fishing':10, 'Transport-moving':11, 'Priv-house-serv':12\n",
    "                    , 'Protective-serv':13, 'Armed-Forces':14}\n",
    "        relationship_map={ 'Wife':1, 'Own-child':2, 'Husband':3, 'Not-in-family':4, 'Other-relative':5, \\\n",
    "                          'Unmarried':6}\n",
    "        race_map ={'White':1, 'Asian-Pac-Islander':2, 'Amer-Indian-Eskimo':3, 'Other':4, 'Black':5}\n",
    "        sex_map={'Female':1, 'Male':2}\n",
    "        # capital-gain: continuous.\n",
    "        # capital-loss: continuous.\n",
    "        # hours-per-week: continuous.\n",
    "        native_country_map ={'United-States':1, 'Cambodia':2, 'England':3, 'Puerto-Rico':4, 'Canada':5\n",
    "                             , 'Germany':6, 'Outlying-US(Guam-USVI-etc)':7, 'India':8, 'Japan':9, 'Greece':10\n",
    "                             , 'South':11, 'China':12, 'Cuba':13, 'Iran':14, 'Honduras':15, 'Philippines':16\n",
    "                             , 'Italy':17, 'Poland':18, 'Jamaica':19, 'Vietnam':20, 'Mexico':21\n",
    "                             , 'Portugal':21, 'Ireland':22\n",
    "                             , 'France':23, 'Dominican-Republic':24, 'Laos':25, 'Ecuador':26\n",
    "                             , 'Taiwan':27, 'Haiti':28, 'Columbia':29\n",
    "                             , 'Hungary':30, 'Guatemala':31, 'Nicaragua':32, 'Scotland':33\n",
    "                             , 'Thailand':34, 'Yugoslavia':35\n",
    "                             , 'El-Salvador':36, 'Trinadad&Tobago':37, 'Peru':38, 'Hong':39, \\\n",
    "                             'Holand-Netherlands':40}\n",
    "\n",
    "        label_map={'<=50K':0, '>50K':1}\n",
    "        \n",
    "        theregex = re.compile(r'[^\\d.-]+')\n",
    "\n",
    "        data.replace(to_replace='?', value ='0') \n",
    "\n",
    "        data.replace(inplace =True ,to_replace = {'workclass':workclass_map \n",
    "        ,'education':education_map\n",
    "                         ,'marital-status':marital_status_map \n",
    "                         ,'occupation':occupation_map , 'relationship':relationship_map\n",
    "                          ,'race':race_map , 'sex':sex_map ,'native-country':native_country_map\n",
    "                            ,'label': label_map\n",
    "                         } )\n",
    "\n",
    "        data = data.astype('str').applymap(lambda x: re.sub(r'[^\\d.]+', '0', x))  \n",
    "\n",
    "        data = data.astype('int')\n",
    "\n",
    "        return pd.DataFrame(data)\n",
    "\n",
    "\n",
    "def load_dataset( dataset_name):\n",
    "        \n",
    "              \n",
    "        url =\"https://archive.ics.uci.edu/ml/machine-learning-databases/adult/adult.data\"\n",
    "        \n",
    "        columns=['age' , 'workclass' ,'fnlwgt','education' ,'education-num','marital-status' ,'occupation', \\\n",
    "                 'relationship'\n",
    "            ,'race' , 'sex' ,'capital-gain' ,'capital-loss' ,'hours-per-week' ,'native-country' ,'label']\n",
    "\n",
    "        all_data = pd.read_csv(url ,  names=columns, index_col=False)\n",
    "        \n",
    "        all_data.reset_index()\n",
    "        print(all_data.shape)\n",
    "        \n",
    "        \n",
    "        cleaned_data= all_data\n",
    "        cleaned_data = clean_data(all_data)\n",
    "        \n",
    "        return cleaned_data\n",
    "        \n",
    "        \n",
    " "
   ]
  },
  {
   "cell_type": "code",
   "execution_count": 46,
   "metadata": {},
   "outputs": [
    {
     "name": "stdout",
     "output_type": "stream",
     "text": [
      "(32561, 15)\n"
     ]
    }
   ],
   "source": [
    "df= load_dataset(\"\")"
   ]
  },
  {
   "cell_type": "code",
   "execution_count": 56,
   "metadata": {},
   "outputs": [],
   "source": [
    "#df"
   ]
  },
  {
   "cell_type": "code",
   "execution_count": 51,
   "metadata": {},
   "outputs": [
    {
     "name": "stdout",
     "output_type": "stream",
     "text": [
      "(32561,) (32561, 14)\n"
     ]
    }
   ],
   "source": [
    "y= np.array(df['label'], dtype= np.int)\n",
    "               \n",
    "X = np.array(df.drop('label', axis =1), dtype= np.float)\n",
    "print(y.shape , X.shape)"
   ]
  },
  {
   "cell_type": "code",
   "execution_count": 52,
   "metadata": {},
   "outputs": [
    {
     "data": {
      "text/plain": [
       "array([[  3.90000000e+01,   6.00000000e+00,   7.75160000e+04,\n",
       "          1.00000000e+00,   1.30000000e+01,   3.00000000e+00,\n",
       "          9.00000000e+00,   4.00000000e+00,   1.00000000e+00,\n",
       "          2.00000000e+00,   2.17400000e+03,   0.00000000e+00,\n",
       "          4.00000000e+01,   1.00000000e+00],\n",
       "       [  5.00000000e+01,   2.00000000e+00,   8.33110000e+04,\n",
       "          1.00000000e+00,   1.30000000e+01,   1.00000000e+00,\n",
       "          5.00000000e+00,   3.00000000e+00,   1.00000000e+00,\n",
       "          2.00000000e+00,   0.00000000e+00,   0.00000000e+00,\n",
       "          1.30000000e+01,   1.00000000e+00],\n",
       "       [  3.80000000e+01,   1.00000000e+00,   2.15646000e+05,\n",
       "          4.00000000e+00,   9.00000000e+00,   2.00000000e+00,\n",
       "          7.00000000e+00,   4.00000000e+00,   1.00000000e+00,\n",
       "          2.00000000e+00,   0.00000000e+00,   0.00000000e+00,\n",
       "          4.00000000e+01,   1.00000000e+00],\n",
       "       [  5.30000000e+01,   1.00000000e+00,   2.34721000e+05,\n",
       "          3.00000000e+00,   7.00000000e+00,   1.00000000e+00,\n",
       "          7.00000000e+00,   3.00000000e+00,   5.00000000e+00,\n",
       "          2.00000000e+00,   0.00000000e+00,   0.00000000e+00,\n",
       "          4.00000000e+01,   1.00000000e+00],\n",
       "       [  2.80000000e+01,   1.00000000e+00,   3.38409000e+05,\n",
       "          1.00000000e+00,   1.30000000e+01,   1.00000000e+00,\n",
       "          6.00000000e+00,   1.00000000e+00,   5.00000000e+00,\n",
       "          1.00000000e+00,   0.00000000e+00,   0.00000000e+00,\n",
       "          4.00000000e+01,   1.30000000e+01]])"
      ]
     },
     "execution_count": 52,
     "metadata": {},
     "output_type": "execute_result"
    }
   ],
   "source": [
    "X[:5]"
   ]
  }
 ],
 "metadata": {
  "kernelspec": {
   "display_name": "Python 3",
   "language": "python",
   "name": "python3"
  },
  "language_info": {
   "codemirror_mode": {
    "name": "ipython",
    "version": 3
   },
   "file_extension": ".py",
   "mimetype": "text/x-python",
   "name": "python",
   "nbconvert_exporter": "python",
   "pygments_lexer": "ipython3",
   "version": "3.6.1"
  }
 },
 "nbformat": 4,
 "nbformat_minor": 2
}
